{
 "cells": [
  {
   "cell_type": "code",
   "execution_count": 18,
   "metadata": {},
   "outputs": [],
   "source": [
    "import h5py\n",
    "import os\n",
    "import sys\n",
    "import glob\n",
    "import numpy\n",
    "sevir_root='/home/gridsan/groups/EarthIntelligence/datasets/SEVIR/data'\n",
    "os.environ['HDF5_USE_FILE_LOCKING']='FALSE'"
   ]
  },
  {
   "cell_type": "code",
   "execution_count": 13,
   "metadata": {},
   "outputs": [
    {
     "data": {
      "text/plain": [
       "0"
      ]
     },
     "execution_count": 13,
     "metadata": {},
     "output_type": "execute_result"
    }
   ],
   "source": [
    "mod = 'ir069'\n",
    "os.system('mkdir -p %s' % mod)"
   ]
  },
  {
   "cell_type": "code",
   "execution_count": 15,
   "metadata": {},
   "outputs": [
    {
     "name": "stdout",
     "output_type": "stream",
     "text": [
      "8 2\n"
     ]
    }
   ],
   "source": [
    "files = glob.glob(sevir_root+'/'+mod+'/*/*.h5')\n",
    "trn_files=files[:-2]\n",
    "tst_files=files[-2:]\n",
    "print(len(trn_files),len(tst_files))"
   ]
  },
  {
   "cell_type": "code",
   "execution_count": 22,
   "metadata": {},
   "outputs": [
    {
     "name": "stdout",
     "output_type": "stream",
     "text": [
      "Reading /home/gridsan/groups/EarthIntelligence/datasets/SEVIR/data/ir069/2018/SEVIR_IR069_STORMEVENTS_2018_0701_1231.h5\n"
     ]
    }
   ],
   "source": [
    "X = None\n",
    "for f in trn_files[:1]:\n",
    "    print('Reading',f)\n",
    "    with h5py.File(f,'r') as hf:\n",
    "        if X is None:\n",
    "            X = hf[mod][:]\n",
    "        else:\n",
    "            X = np.concatenate([X,hf[mod][:]])"
   ]
  },
  {
   "cell_type": "code",
   "execution_count": 20,
   "metadata": {},
   "outputs": [],
   "source": [
    "with h5py.File(mod+'/train.h5','w') as hf:\n",
    "    hf.create_dataset('IMG',data=X)"
   ]
  },
  {
   "cell_type": "code",
   "execution_count": 21,
   "metadata": {},
   "outputs": [
    {
     "name": "stdout",
     "output_type": "stream",
     "text": [
      "Reading /home/gridsan/groups/EarthIntelligence/datasets/SEVIR/data/ir069/2019/SEVIR_IR069_RANDOMEVENTS_2019_0501_0831.h5\n",
      "Reading /home/gridsan/groups/EarthIntelligence/datasets/SEVIR/data/ir069/2019/SEVIR_IR069_RANDOMEVENTS_2019_0901_1231.h5\n"
     ]
    }
   ],
   "source": [
    "X = None\n",
    "for f in tst_files:\n",
    "    print('Reading',f)\n",
    "    with h5py.File(f,'r') as hf:\n",
    "        if X is None:\n",
    "            X = hf[mod][:]\n",
    "        else:\n",
    "            X = np.concatenate([X,hf[mod][:]])\n",
    "with h5py.File(mod+'/test.h5','w') as hf:\n",
    "    hf.create_dataset('IMG',data=X)"
   ]
  }
 ],
 "metadata": {
  "kernelspec": {
   "display_name": "Python 3",
   "language": "python",
   "name": "python3"
  },
  "language_info": {
   "codemirror_mode": {
    "name": "ipython",
    "version": 3
   },
   "file_extension": ".py",
   "mimetype": "text/x-python",
   "name": "python",
   "nbconvert_exporter": "python",
   "pygments_lexer": "ipython3",
   "version": "3.7.7"
  },
  "latex_envs": {
   "LaTeX_envs_menu_present": true,
   "autoclose": false,
   "autocomplete": true,
   "bibliofile": "biblio.bib",
   "cite_by": "apalike",
   "current_citInitial": 1,
   "eqLabelWithNumbers": true,
   "eqNumInitial": 1,
   "hotkeys": {
    "equation": "Ctrl-E",
    "itemize": "Ctrl-I"
   },
   "labels_anchors": false,
   "latex_user_defs": false,
   "report_style_numbering": false,
   "user_envs_cfg": false
  },
  "toc": {
   "base_numbering": 1,
   "nav_menu": {},
   "number_sections": true,
   "sideBar": true,
   "skip_h1_title": false,
   "title_cell": "Table of Contents",
   "title_sidebar": "Contents",
   "toc_cell": false,
   "toc_position": {},
   "toc_section_display": true,
   "toc_window_display": false
  },
  "varInspector": {
   "cols": {
    "lenName": 16,
    "lenType": 16,
    "lenVar": 40
   },
   "kernels_config": {
    "python": {
     "delete_cmd_postfix": "",
     "delete_cmd_prefix": "del ",
     "library": "var_list.py",
     "varRefreshCmd": "print(var_dic_list())"
    },
    "r": {
     "delete_cmd_postfix": ") ",
     "delete_cmd_prefix": "rm(",
     "library": "var_list.r",
     "varRefreshCmd": "cat(var_dic_list()) "
    }
   },
   "types_to_exclude": [
    "module",
    "function",
    "builtin_function_or_method",
    "instance",
    "_Feature"
   ],
   "window_display": false
  }
 },
 "nbformat": 4,
 "nbformat_minor": 2
}
